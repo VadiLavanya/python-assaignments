{
  "nbformat": 4,
  "nbformat_minor": 0,
  "metadata": {
    "colab": {
      "provenance": []
    },
    "kernelspec": {
      "name": "python3",
      "display_name": "Python 3"
    },
    "language_info": {
      "name": "python"
    }
  },
  "cells": [
    {
      "cell_type": "markdown",
      "source": [
        "*** USE THE CONCEPT OF LOOPS TO SOLVE THE BELOW PROGRAMS***"
      ],
      "metadata": {
        "id": "LntIlHO5OfPf"
      }
    },
    {
      "cell_type": "markdown",
      "source": [
        "1) Python program to count the total number of digits in a number.\n",
        "\n",
        "TAKE THE INPUT NUMBER : 123456\n",
        "\n",
        "\n",
        "\n"
      ],
      "metadata": {
        "id": "vxHfbNtoOfRV"
      }
    },
    {
      "cell_type": "code",
      "source": [
        "  num = 123456\n",
        "digit_count = len(str(num))\n",
        "print(\"Total number of digits:\", digit_count)"
      ],
      "metadata": {
        "id": "_PKg5umLO2-q",
        "colab": {
          "base_uri": "https://localhost:8080/"
        },
        "outputId": "e8bf3797-d2b9-4bfd-a6fc-4b0d72bd0aa8"
      },
      "execution_count": 1,
      "outputs": [
        {
          "output_type": "stream",
          "name": "stdout",
          "text": [
            "Total number of digits: 6\n"
          ]
        }
      ]
    },
    {
      "cell_type": "markdown",
      "source": [
        "2) Python program to count the number of even and odd numbers from a series of numbers.\n",
        "\n",
        "num_list = [1,3,5,6,99,134,55]"
      ],
      "metadata": {
        "id": "bXf8Z8feOfTn"
      }
    },
    {
      "cell_type": "code",
      "source": [
        "num_list = [1, 3, 5, 6, 99, 134, 55]\n",
        "\n",
        "even_count = sum(1 for num in num_list if num % 2 == 0)\n",
        "odd_count = sum(1 for num in num_list if num % 2 != 0)\n",
        "\n",
        "print(\"Number of even numbers:\", even_count)\n",
        "print(\"Number of odd numbers:\", odd_count)"
      ],
      "metadata": {
        "id": "QzZjjwRCPIip",
        "colab": {
          "base_uri": "https://localhost:8080/"
        },
        "outputId": "bbbdd6d6-2156-4343-bf61-67610c1893d1"
      },
      "execution_count": 2,
      "outputs": [
        {
          "output_type": "stream",
          "name": "stdout",
          "text": [
            "Number of even numbers: 2\n",
            "Number of odd numbers: 5\n"
          ]
        }
      ]
    },
    {
      "cell_type": "markdown",
      "source": [
        "3) Python program to get the Fibonacci series between 0 to 50."
      ],
      "metadata": {
        "id": "Ae6CdE7hOfWZ"
      }
    },
    {
      "cell_type": "code",
      "source": [
        "def fibonacci_series(limit):\n",
        "    a, b = 0, 1\n",
        "    while a <= limit:\n",
        "        print(a, end=' ')\n",
        "        a, b = b, a + b\n",
        "\n",
        "print(\"Fibonacci series between 0 and 50:\")\n",
        "fibonacci_series(50)"
      ],
      "metadata": {
        "id": "_IIZYCLPPTwI",
        "colab": {
          "base_uri": "https://localhost:8080/"
        },
        "outputId": "27f3ce7b-029f-49bb-fea8-0be56f72a74a"
      },
      "execution_count": 3,
      "outputs": [
        {
          "output_type": "stream",
          "name": "stdout",
          "text": [
            "Fibonacci series between 0 and 50:\n",
            "0 1 1 2 3 5 8 13 21 34 "
          ]
        }
      ]
    },
    {
      "cell_type": "markdown",
      "source": [
        "4) Python program that accepts a string and calculates the number of digits and letters.\n",
        "\n",
        "Input\n",
        "\n",
        "WEBBLINDERS1234"
      ],
      "metadata": {
        "id": "VYbquVMROfZz"
      }
    },
    {
      "cell_type": "code",
      "source": [
        "input_string = \"WEBBLINDERS1234\"\n",
        "\n",
        "digit_count = sum(1 for char in input_string if char.isdigit())\n",
        "letter_count = sum(1 for char in input_string if char.isalpha())\n",
        "\n",
        "print(\"Number of digits:\", digit_count)\n",
        "print(\"Number of letters:\", letter_count)"
      ],
      "metadata": {
        "id": "iGYeja7XPop3",
        "colab": {
          "base_uri": "https://localhost:8080/"
        },
        "outputId": "4aa3f2cc-9658-44b9-98aa-5692e8e39b1b"
      },
      "execution_count": 4,
      "outputs": [
        {
          "output_type": "stream",
          "name": "stdout",
          "text": [
            "Number of digits: 4\n",
            "Number of letters: 11\n"
          ]
        }
      ]
    },
    {
      "cell_type": "markdown",
      "source": [
        "5) Python program to display all numbers within a range except the prime numbers.\n",
        "\n",
        "INPUT RANGE : 30 TO 80"
      ],
      "metadata": {
        "id": "RiVenPeDPqs_"
      }
    },
    {
      "cell_type": "code",
      "source": [
        "def is_prime(n):\n",
        "    if n <= 1:\n",
        "        return False\n",
        "    for i in range(2, int(n**0.5) + 1):\n",
        "        if n % i == 0:\n",
        "            return False\n",
        "    return True\n",
        "\n",
        "start, end = 30, 80\n",
        "non_prime_numbers = [num for num in range(start, end + 1) if not is_prime(num)]\n",
        "\n",
        "print(\"Numbers in the range from 30 to 80 except prime numbers:\")\n",
        "print(non_prime_numbers)"
      ],
      "metadata": {
        "id": "UTm21ayAPX02",
        "colab": {
          "base_uri": "https://localhost:8080/"
        },
        "outputId": "a2660df8-7f21-4a3e-c4e2-83915531486d"
      },
      "execution_count": 5,
      "outputs": [
        {
          "output_type": "stream",
          "name": "stdout",
          "text": [
            "Numbers in the range from 30 to 80 except prime numbers:\n",
            "[30, 32, 33, 34, 35, 36, 38, 39, 40, 42, 44, 45, 46, 48, 49, 50, 51, 52, 54, 55, 56, 57, 58, 60, 62, 63, 64, 65, 66, 68, 69, 70, 72, 74, 75, 76, 77, 78, 80]\n"
          ]
        }
      ]
    }
  ]
}