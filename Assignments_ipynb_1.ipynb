{
  "cells": [
    {
      "cell_type": "code",
      "execution_count": null,
      "metadata": {
        "id": "5mgG2cmdYjyg"
      },
      "outputs": [],
      "source": [
        "#Consider the string given below and answer the following questions\n",
        "string = \"OQYWFClFhFGAvIWYwGKpmZhnJiyzTslSIhSwvOsqJMEphzmifTkyqOMNpnOtXZxmCfgDYqbaBHAUvIWhMnvwZnEMVDvmEfLrDoQnAZgQEgXQVnmSYkfedpAdhrtpOgORpYLRZYGWdhWYuqQssCUXtTzKRDAhpjUheOzUroZNzWFtZOVwIapzUYtbSbjYNErzQ\"\n"
      ]
    },
    {
      "cell_type": "markdown",
      "metadata": {
        "id": "7yWFzcCjYjyj"
      },
      "source": [
        "####  Calculate the number of characters in the string\n",
        "\n",
        "-  193\n",
        "-  200\n",
        "-  300\n",
        "-  500\n"
      ]
    },
    {
      "cell_type": "code",
      "execution_count": null,
      "metadata": {
        "id": "IECeT90AYjyl"
      },
      "outputs": [],
      "source": [
        "string = \"193,200,300,500\""
      ]
    },
    {
      "cell_type": "markdown",
      "metadata": {
        "id": "w1UUwT1MYjyl"
      },
      "source": [
        "#### Count the number of occurences of 'a' in the string\n",
        "\n",
        "-  1\n",
        "-  2\n",
        "-  10\n",
        "-  5"
      ]
    },
    {
      "cell_type": "code",
      "execution_count": null,
      "metadata": {
        "id": "Cy0qY8J3Yjym",
        "colab": {
          "base_uri": "https://localhost:8080/"
        },
        "outputId": "022d23f3-72fa-4e76-f5a9-5bbbe647a1f0"
      },
      "outputs": [
        {
          "output_type": "stream",
          "name": "stdout",
          "text": [
            "0\n"
          ]
        }
      ],
      "source": [
        "text = \"\"\"1\n",
        "2\n",
        "10\n",
        "5\"\"\"\n",
        "\n",
        "count_a = text.count('a')\n",
        "print(count_a)"
      ]
    },
    {
      "cell_type": "markdown",
      "metadata": {
        "id": "36helLpNoTWp"
      },
      "source": []
    },
    {
      "cell_type": "markdown",
      "metadata": {
        "id": "R6GrGcPwYjym"
      },
      "source": [
        "#### Identify whether the string starts with 'if'.\n",
        "\n",
        "-  True\n",
        "-  False"
      ]
    },
    {
      "cell_type": "code",
      "execution_count": null,
      "metadata": {
        "id": "VlCYFjnCYjym",
        "colab": {
          "base_uri": "https://localhost:8080/"
        },
        "outputId": "822f5ff7-179d-4150-92b0-efd4fb7c68bb"
      },
      "outputs": [
        {
          "output_type": "stream",
          "name": "stdout",
          "text": [
            "False\n"
          ]
        }
      ],
      "source": [
        "text = \"\"\"Identify whether the string starts with 'if'.\n",
        "True\n",
        "False\n",
        "# Type your code here:\"\"\"\n",
        "starts_with_if = text.startswith('if')\n",
        "print(starts_with_if)"
      ]
    },
    {
      "cell_type": "markdown",
      "metadata": {
        "id": "ZjqBvaRRYjyn"
      },
      "source": [
        "#### Return the substring starting at index 63 and ending at index 88  [Both the indexes are inclusive]\n",
        "\n",
        "-  'OQYWFClFhFGA'\n",
        "-  'mCfgDYqbaBHAUvIWhMnvwZnEMV'\n",
        "-  'IWYwGKpmZhnJiyzTslSIhSwv'\n",
        "-  'JMEphzmifTkyqOMNpnOtXZ'"
      ]
    },
    {
      "cell_type": "code",
      "execution_count": null,
      "metadata": {
        "collapsed": true,
        "id": "jZqiYlQCYjyn",
        "colab": {
          "base_uri": "https://localhost:8080/"
        },
        "outputId": "fffdaf5d-18c9-4ae9-86e6-312bed032f86"
      },
      "outputs": [
        {
          "output_type": "stream",
          "name": "stdout",
          "text": [
            "SIhSwv'\n",
            "'JMEphzmifTkyqOMNp\n"
          ]
        }
      ],
      "source": [
        "text = \"\"\"'OQYWFClFhFGA'\n",
        "'mCfgDYqbaBHAUvIWhMnvwZnEMV'\n",
        "'IWYwGKpmZhnJiyzTslSIhSwv'\n",
        "'JMEphzmifTkyqOMNpnOtXZ'\"\"\"\n",
        "substring = text[63:89]\n",
        "print(substring)"
      ]
    },
    {
      "cell_type": "markdown",
      "metadata": {
        "id": "KtA1nV2CYjyn"
      },
      "source": [
        "#### Identify the character at index 45\n",
        "\n",
        "-  a\n",
        "-  b\n",
        "-  z\n",
        "-  x"
      ]
    },
    {
      "cell_type": "code",
      "execution_count": null,
      "metadata": {
        "id": "B5OhzOzEYjyo",
        "colab": {
          "base_uri": "https://localhost:8080/"
        },
        "outputId": "48860125-ee49-4f8f-b678-8f52ef454957"
      },
      "outputs": [
        {
          "output_type": "stream",
          "name": "stdout",
          "text": [
            "z\n"
          ]
        }
      ],
      "source": [
        "\n",
        "text = \"\"\"Identify the character at index 45\n",
        "a\n",
        "b\n",
        "z\n",
        "x\"\"\"\n",
        "character_at_index_45 = text[45]\n",
        "print(character_at_index_45)# Type your code here"
      ]
    },
    {
      "cell_type": "code",
      "execution_count": null,
      "metadata": {
        "collapsed": true,
        "id": "LASyquagYjyo"
      },
      "outputs": [],
      "source": []
    }
  ],
  "metadata": {
    "colab": {
      "provenance": []
    },
    "kernelspec": {
      "display_name": "Python 3",
      "language": "python",
      "name": "python3"
    },
    "language_info": {
      "codemirror_mode": {
        "name": "ipython",
        "version": 3
      },
      "file_extension": ".py",
      "mimetype": "text/x-python",
      "name": "python",
      "nbconvert_exporter": "python",
      "pygments_lexer": "ipython3",
      "version": "3.7.3"
    }
  },
  "nbformat": 4,
  "nbformat_minor": 0
}