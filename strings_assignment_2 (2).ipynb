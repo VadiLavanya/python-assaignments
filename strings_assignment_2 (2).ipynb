{
  "nbformat": 4,
  "nbformat_minor": 0,
  "metadata": {
    "colab": {
      "provenance": []
    },
    "kernelspec": {
      "name": "python3",
      "display_name": "Python 3"
    },
    "language_info": {
      "name": "python"
    }
  },
  "cells": [
    {
      "cell_type": "markdown",
      "source": [
        "## Strings Assignment 2"
      ],
      "metadata": {
        "id": "EPGLodluvWuN"
      }
    },
    {
      "cell_type": "markdown",
      "source": [
        "1.Write a Python program to reverse a string.\n",
        "\n",
        "input : hellohowareyoudoingandhowisyourhealth"
      ],
      "metadata": {
        "id": "ddM5gMtivkoi"
      }
    },
    {
      "cell_type": "code",
      "source": [
        "\n",
        "input = \"hellohowareyoudoingandhowisyourhealth\"[::-1]\n",
        "print(input)"
      ],
      "metadata": {
        "id": "RnP576ZZvtLH",
        "colab": {
          "base_uri": "https://localhost:8080/"
        },
        "outputId": "ce61cc50-dd40-4b35-f8c0-96118f9eae28"
      },
      "execution_count": null,
      "outputs": [
        {
          "output_type": "stream",
          "name": "stdout",
          "text": [
            "htlaehruoysiwohdnagnioduoyerawoholleh\n"
          ]
        }
      ]
    },
    {
      "cell_type": "markdown",
      "source": [
        "2.Write a Python program to capitalize the first letter of each word in a sentence.\n",
        "\n",
        "input : hello welcome to internship"
      ],
      "metadata": {
        "id": "jEVFoo3evnhr"
      }
    },
    {
      "cell_type": "code",
      "source": [
        "input = \"hello welcome to internship\"\n",
        "print(input.title())"
      ],
      "metadata": {
        "id": "CTP3QwiGwT93",
        "colab": {
          "base_uri": "https://localhost:8080/"
        },
        "outputId": "36ea5b4a-0265-4c0b-b329-4c7d8b2295fb"
      },
      "execution_count": 2,
      "outputs": [
        {
          "output_type": "stream",
          "name": "stdout",
          "text": [
            "Hello Welcome To Internship\n"
          ]
        }
      ]
    },
    {
      "cell_type": "markdown",
      "source": [
        "3.Write a Python program to find the longest word in a sentence.\n",
        "\n",
        "input : \"he is very good at painting and paint good sketches\""
      ],
      "metadata": {
        "id": "LiGvyCoVvnyC"
      }
    },
    {
      "cell_type": "code",
      "source": [
        "input = \"he is very good at painting and paint good sketches\"\n",
        "words = input.split()\n",
        "res = \"\"\n",
        "for word in words:\n",
        "    if len(word) > len(res):\n",
        "        res = word\n",
        "print(res)"
      ],
      "metadata": {
        "id": "clATuC3cwwPI",
        "colab": {
          "base_uri": "https://localhost:8080/"
        },
        "outputId": "f8de4fb0-37f8-4a89-94ea-23c72537b21b"
      },
      "execution_count": 3,
      "outputs": [
        {
          "output_type": "stream",
          "name": "stdout",
          "text": [
            "painting\n"
          ]
        }
      ]
    },
    {
      "cell_type": "markdown",
      "source": [
        "4.Write a Python program to find the length of the last word in a sentence.\n",
        "\n",
        "input : this is the most beautiful beach I ever visited"
      ],
      "metadata": {
        "id": "-QhCplQjvn0w"
      }
    },
    {
      "cell_type": "code",
      "source": [
        "input = \"this is the most beautiful beach I ever visited\"\n",
        "last= len(input.split()[-1])\n",
        "print(last)"
      ],
      "metadata": {
        "id": "QwzbahlkxGZ-",
        "colab": {
          "base_uri": "https://localhost:8080/"
        },
        "outputId": "2ac7608d-1c97-4f49-c87b-b1cb22835245"
      },
      "execution_count": 4,
      "outputs": [
        {
          "output_type": "stream",
          "name": "stdout",
          "text": [
            "7\n"
          ]
        }
      ]
    },
    {
      "cell_type": "markdown",
      "source": [
        "5.Write a Python program to find the second most frequent character in a string.\n",
        "\n",
        "input: the hospital is very big and this hospital has so many doctors"
      ],
      "metadata": {
        "id": "cZiXxZhsvn6q"
      }
    },
    {
      "cell_type": "code",
      "source": [
        "input = \"the hospital is very big and this hospital has so many doctors\"\n",
        "from collections import Counter\n",
        "char_counts = Counter(input)\n",
        "sorted_chars = sorted(char_counts.items(), key=lambda item: item[1], reverse=True)\n",
        "for char, count in sorted_chars:\n",
        "    if char != ' ':\n",
        "        second_frequent = char\n",
        "        break\n",
        "print(second_frequent)"
      ],
      "metadata": {
        "id": "EnHquuoCxi7F",
        "colab": {
          "base_uri": "https://localhost:8080/"
        },
        "outputId": "f4ca8fd7-2d4d-4dc6-b314-d460ad643e02"
      },
      "execution_count": 5,
      "outputs": [
        {
          "output_type": "stream",
          "name": "stdout",
          "text": [
            "s\n"
          ]
        }
      ]
    }
  ]
}