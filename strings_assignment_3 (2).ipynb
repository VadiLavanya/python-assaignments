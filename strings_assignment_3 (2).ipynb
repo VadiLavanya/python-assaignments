{
  "nbformat": 4,
  "nbformat_minor": 0,
  "metadata": {
    "colab": {
      "provenance": []
    },
    "kernelspec": {
      "name": "python3",
      "display_name": "Python 3"
    },
    "language_info": {
      "name": "python"
    }
  },
  "cells": [
    {
      "cell_type": "markdown",
      "source": [
        "1.Write a Python program to count the number of vowels in a string.\n",
        "\n",
        "input : hasdfgeuionhjl"
      ],
      "metadata": {
        "id": "q8RkYTES1QUW"
      }
    },
    {
      "cell_type": "code",
      "source": [
        "input=\"hasdfgeuionhjl\"\n",
        "vowels = \"aeiouAEIOU\"\n",
        "total = sum(input.count(vowel) for vowel in vowels)\n",
        "print(total)"
      ],
      "metadata": {
        "id": "UHi6ezjV1X0s",
        "colab": {
          "base_uri": "https://localhost:8080/"
        },
        "outputId": "b532f0ba-9318-4579-d8bd-1e3879752ac6"
      },
      "execution_count": 4,
      "outputs": [
        {
          "output_type": "stream",
          "name": "stdout",
          "text": [
            "5\n"
          ]
        }
      ]
    },
    {
      "cell_type": "markdown",
      "source": [
        "2.Write a Python program to count the occurrences of each word in a sentence.\n",
        "\n",
        "input : hi hello hi and and hi more and more programming"
      ],
      "metadata": {
        "id": "v7GBEK161QWy"
      }
    },
    {
      "cell_type": "code",
      "source": [
        "input = \"hi hello hi and and hi more and more programming\"\n",
        "words = input.split()\n",
        "word_counts = {}\n",
        "\n",
        "for word in words:\n",
        "    if word in word_counts:\n",
        "        word_counts[word] += 1\n",
        "    else:\n",
        "        word_counts[word] = 1\n",
        "\n",
        "for word, count in word_counts.items():\n",
        "    print(f\"{word}: {count}\")"
      ],
      "metadata": {
        "id": "R-UzDybK1uZo",
        "colab": {
          "base_uri": "https://localhost:8080/"
        },
        "outputId": "a2e23053-ba42-4843-f415-861cb29c9835"
      },
      "execution_count": 5,
      "outputs": [
        {
          "output_type": "stream",
          "name": "stdout",
          "text": [
            "hi: 3\n",
            "hello: 1\n",
            "and: 3\n",
            "more: 2\n",
            "programming: 1\n"
          ]
        }
      ]
    },
    {
      "cell_type": "markdown",
      "source": [
        "\n",
        "\n",
        "```\n",
        "# This is formatted as code\n",
        "```\n",
        "\n",
        "3.In python how can you differentiate strings and lists. Give atleast 5 different comparisons between them."
      ],
      "metadata": {
        "id": "evCcw-0H1QY9"
      }
    },
    {
      "cell_type": "markdown",
      "source": [
        "\n",
        "\n",
        "1.string is a sequence of characters, each element in a string must be a single character. List is a collection of elements, this elements may be any data types.  \n",
        "2.Strings are enclosed in \"\" and list are enclosed in []\n",
        "3.String are immutable lists are mutable.\n",
        "4.concatenating of strings will merge while concatenating the lists will combine.\n",
        "5.Strings support operations like concatenation, repetition, and methods like lower, upper, and split.  Lists support operations like appending , extending , inserting, and removing elements.\n",
        "\n",
        "\n",
        "\n"
      ],
      "metadata": {
        "id": "l2MBR01z_9xB"
      }
    },
    {
      "cell_type": "markdown",
      "source": [
        "4.Write a string for your own of approximately 40 in length and perform any 5 different string operations on that."
      ],
      "metadata": {
        "id": "riR1PWxG1Qdq"
      }
    },
    {
      "cell_type": "code",
      "source": [
        "str=\"Hi this is Jessica and I am software developer from amazon.\"\n",
        "r=len(str)\n",
        "print(r)\n",
        "r=str.title()\n",
        "print(r)\n",
        "r=str.upper()\n",
        "print(r)\n",
        "r=str.lower()\n",
        "print(r)\n",
        "r=str.count(\"i\",1,59)\n",
        "print(r)"
      ],
      "metadata": {
        "colab": {
          "base_uri": "https://localhost:8080/"
        },
        "id": "twSREXTP_q5m",
        "outputId": "66c22018-2fe5-477a-d6d1-505bbef972e6"
      },
      "execution_count": 6,
      "outputs": [
        {
          "output_type": "stream",
          "name": "stdout",
          "text": [
            "59\n",
            "Hi This Is Jessica And I Am Software Developer From Amazon.\n",
            "HI THIS IS JESSICA AND I AM SOFTWARE DEVELOPER FROM AMAZON.\n",
            "hi this is jessica and i am software developer from amazon.\n",
            "4\n"
          ]
        }
      ]
    },
    {
      "cell_type": "markdown",
      "source": [
        "5.Explain the concatination in strings with a neat example."
      ],
      "metadata": {
        "id": "bbUm7VVN1Qfu"
      }
    },
    {
      "cell_type": "code",
      "source": [
        "a=\"hi\"\n",
        "b=\"hello\"\n",
        "print(a+\", \"+b)"
      ],
      "metadata": {
        "id": "y9292Q452tF0",
        "colab": {
          "base_uri": "https://localhost:8080/"
        },
        "outputId": "36cc7289-f25c-4c63-af56-934cb8fb33e3"
      },
      "execution_count": 7,
      "outputs": [
        {
          "output_type": "stream",
          "name": "stdout",
          "text": [
            "hi, hello\n"
          ]
        }
      ]
    },
    {
      "cell_type": "code",
      "source": [],
      "metadata": {
        "id": "vnMNtJgq2xuG"
      },
      "execution_count": 7,
      "outputs": []
    }
  ]
}