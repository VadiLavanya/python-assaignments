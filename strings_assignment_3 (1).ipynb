{
  "nbformat": 4,
  "nbformat_minor": 0,
  "metadata": {
    "colab": {
      "provenance": []
    },
    "kernelspec": {
      "name": "python3",
      "display_name": "Python 3"
    },
    "language_info": {
      "name": "python"
    }
  },
  "cells": [
    {
      "cell_type": "markdown",
      "source": [
        "1.Write a Python program to count the number of vowels in a string.\n",
        "\n",
        "input : hasdfgeuionhjl"
      ],
      "metadata": {
        "id": "q8RkYTES1QUW"
      }
    },
    {
      "cell_type": "code",
      "source": [
        "def count_vowels(input_string):\n",
        "    vowels = \"aeiou\"\n",
        "    count = sum(1 for char in input_string if char in vowels)\n",
        "    return count\n",
        "input_string = \"hasdfgeuionhjl\"\n",
        "print(\"Number of vowels:\", count_vowels(input_string))  # Output: 6"
      ],
      "metadata": {
        "id": "UHi6ezjV1X0s",
        "colab": {
          "base_uri": "https://localhost:8080/"
        },
        "outputId": "0bf72e26-cd7a-4529-a3fc-a799d1a0b748"
      },
      "execution_count": 3,
      "outputs": [
        {
          "output_type": "stream",
          "name": "stdout",
          "text": [
            "Number of vowels: 5\n"
          ]
        }
      ]
    },
    {
      "cell_type": "markdown",
      "source": [
        "2.Write a Python program to count the occurrences of each word in a sentence.\n",
        "\n",
        "input : hi hello hi and and hi more and more programming"
      ],
      "metadata": {
        "id": "v7GBEK161QWy"
      }
    },
    {
      "cell_type": "code",
      "source": [
        "def count_word_occurrences(sentence):\n",
        "    word_list = sentence.split()\n",
        "    word_count = {}\n",
        "\n",
        "    for word in word_list:\n",
        "        word_count[word] = word_count.get(word, 0) + 1\n",
        "\n",
        "    return word_count\n",
        "input_sentence = \"hi hello hi and and hi more and more programming\"\n",
        "print(\"Word occurrences:\", count_word_occurrences(input_sentence))\n"
      ],
      "metadata": {
        "id": "R-UzDybK1uZo",
        "colab": {
          "base_uri": "https://localhost:8080/"
        },
        "outputId": "ded5e841-f0f9-4418-d9f1-3d907a0c3c48"
      },
      "execution_count": 4,
      "outputs": [
        {
          "output_type": "stream",
          "name": "stdout",
          "text": [
            "Word occurrences: {'hi': 3, 'hello': 1, 'and': 3, 'more': 2, 'programming': 1}\n"
          ]
        }
      ]
    },
    {
      "cell_type": "markdown",
      "source": [
        "3.In python how can you differentiate strings and lists. Give atleast 5 different comparisons between them."
      ],
      "metadata": {
        "id": "evCcw-0H1QY9"
      }
    },
    {
      "cell_type": "markdown",
      "source": [
        "*Answer*:my_string = \"The Python programming language is versatile.\"  \n",
        "\n",
        "# 1. Length  \n",
        "length = len(my_string)  \n",
        "\n",
        "# 2. Uppercase  \n",
        "uppercase_string = my_string.upper()  \n",
        "\n",
        "# 3. Lowercase  \n",
        "lowercase_string = my_string.lower()  \n",
        "\n",
        "# 4. Replace a word  \n",
        "replaced_string = my_string.replace(\"versatile\", \"powerful\")  \n",
        "\n",
        "# 5. Split into words  \n",
        "split_string = my_string.split()  \n",
        "\n",
        "print(\"Length:\", length)  # Output: 42  \n",
        "print(\"Uppercase:\", uppercase_string)  # Output: \"THE PYTHON PROGRAMMING LANGUAGE IS VERSATILE.\"  \n",
        "print(\"Lowercase:\", lowercase_string)  # Output: \"the python programming language is versatile.\"  \n",
        "print(\"Replaced string:\", replaced_string)  # Output: \"The Python programming language is powerful.\"  \n",
        "print(\"Split string:\", split_string)  # Output: ['The', 'Python', 'programming', 'language', 'is', 'versatile.']"
      ],
      "metadata": {
        "id": "OfiTI0pv1QbU"
      }
    },
    {
      "cell_type": "code",
      "source": [
        "\n",
        "my_string = \"hello\"\n",
        "my_list = [1, 2, 'hello']\n",
        "print(\"Type of my_string:\", type(my_string))\n",
        "print(\"Type of my_list:\", type(my_list))\n",
        "print(\"String:\", my_string)\n",
        "print(\"List:\", my_list)\n",
        "upper_string = my_string.upper()\n",
        "print(\"Uppercase:\", upper_string)\n",
        "my_list.append(3)\n",
        "print(\"List after append:\", my_list)\n",
        "try:\n",
        "    my_string[0] = 'H'\n",
        "except TypeError as e:\n",
        "    print(\"Error when modifying string:\", e)\n",
        "\n",
        "my_list[0] = 'A'\n",
        "print(\"Modified list:\", my_list)\n",
        "print(\"Iterating over string:\")\n",
        "for char in my_string:\n",
        "    print(char)\n",
        "print(\"Iterating over list:\")\n",
        "for item in my_list:\n",
        "    print(item)"
      ],
      "metadata": {
        "colab": {
          "base_uri": "https://localhost:8080/"
        },
        "id": "josdImYw_DW9",
        "outputId": "efb9c525-d20d-4576-e2a5-c897abb72951"
      },
      "execution_count": 5,
      "outputs": [
        {
          "output_type": "stream",
          "name": "stdout",
          "text": [
            "Type of my_string: <class 'str'>\n",
            "Type of my_list: <class 'list'>\n",
            "String: hello\n",
            "List: [1, 2, 'hello']\n",
            "Uppercase: HELLO\n",
            "List after append: [1, 2, 'hello', 3]\n",
            "Error when modifying string: 'str' object does not support item assignment\n",
            "Modified list: ['A', 2, 'hello', 3]\n",
            "Iterating over string:\n",
            "h\n",
            "e\n",
            "l\n",
            "l\n",
            "o\n",
            "Iterating over list:\n",
            "A\n",
            "2\n",
            "hello\n",
            "3\n"
          ]
        }
      ]
    },
    {
      "cell_type": "markdown",
      "source": [
        "4.Write a string for your own of approximately 40 in length and perform any 5 different string operations on that."
      ],
      "metadata": {
        "id": "riR1PWxG1Qdq"
      }
    },
    {
      "cell_type": "code",
      "source": [
        "my_string = \"The Python programming language is versatile.\"\n",
        "length = len(my_string)\n",
        "uppercase_string = my_string.upper()\n",
        "lowercase_string = my_string.lower()\n",
        "replaced_string = my_string.replace(\"versatile\", \"powerful\")\n",
        "split_string = my_string.split()\n",
        "print(\"Length:\", length)\n",
        "print(\"Uppercase:\", uppercase_string)\n",
        "print(\"Lowercase:\", lowercase_string)\n",
        "print(\"Replaced string:\", replaced_string)\n",
        "print(\"Split string:\", split_string)"
      ],
      "metadata": {
        "colab": {
          "base_uri": "https://localhost:8080/"
        },
        "id": "twSREXTP_q5m",
        "outputId": "7947029a-be44-403e-cc3c-079fd9779bdc"
      },
      "execution_count": 6,
      "outputs": [
        {
          "output_type": "stream",
          "name": "stdout",
          "text": [
            "Length: 45\n",
            "Uppercase: THE PYTHON PROGRAMMING LANGUAGE IS VERSATILE.\n",
            "Lowercase: the python programming language is versatile.\n",
            "Replaced string: The Python programming language is powerful.\n",
            "Split string: ['The', 'Python', 'programming', 'language', 'is', 'versatile.']\n"
          ]
        }
      ]
    },
    {
      "cell_type": "markdown",
      "source": [
        "5.Explain the concatination in strings with a neat example."
      ],
      "metadata": {
        "id": "bbUm7VVN1Qfu"
      }
    },
    {
      "cell_type": "code",
      "source": [
        "string1 = \"Welcome,\"\n",
        "string2 = \"Thankyou\"\n",
        "concatenated_string = string1 + string2\n",
        "\n",
        "print(\"Concatenated String:\", concatenated_string)"
      ],
      "metadata": {
        "id": "y9292Q452tF0",
        "colab": {
          "base_uri": "https://localhost:8080/"
        },
        "outputId": "d6420e58-89d3-426a-aaf9-02c3ac97e5c0"
      },
      "execution_count": 7,
      "outputs": [
        {
          "output_type": "stream",
          "name": "stdout",
          "text": [
            "Concatenated String: Welcome,Thankyou\n"
          ]
        }
      ]
    },
    {
      "cell_type": "code",
      "source": [],
      "metadata": {
        "id": "vnMNtJgq2xuG"
      },
      "execution_count": 7,
      "outputs": []
    }
  ]
}