{
  "nbformat": 4,
  "nbformat_minor": 0,
  "metadata": {
    "colab": {
      "provenance": []
    },
    "kernelspec": {
      "name": "python3",
      "display_name": "Python 3"
    },
    "language_info": {
      "name": "python"
    }
  },
  "cells": [
    {
      "cell_type": "markdown",
      "source": [
        "*** USE THE CONCEPT OF LOOPS TO SOLVE THE BELOW PROGRAMS***"
      ],
      "metadata": {
        "id": "LntIlHO5OfPf"
      }
    },
    {
      "cell_type": "markdown",
      "source": [
        "1) Python program to count the total number of digits in a number.\n",
        "\n",
        "TAKE THE INPUT NUMBER : 123456\n",
        "\n",
        "\n",
        "\n"
      ],
      "metadata": {
        "id": "vxHfbNtoOfRV"
      }
    },
    {
      "cell_type": "code",
      "source": [
        "def count_digits(number):\n",
        "    return len(str(number))\n",
        "num = 123456\n",
        "digit_count = count_digits(num)\n",
        "print(digit_count)"
      ],
      "metadata": {
        "id": "_PKg5umLO2-q",
        "colab": {
          "base_uri": "https://localhost:8080/"
        },
        "outputId": "03dce042-3a6a-4dbc-aa97-ef8d66f02fe8"
      },
      "execution_count": 2,
      "outputs": [
        {
          "output_type": "stream",
          "name": "stdout",
          "text": [
            "6\n"
          ]
        }
      ]
    },
    {
      "cell_type": "markdown",
      "source": [
        "2) Python program to count the number of even and odd numbers from a series of numbers.\n",
        "\n",
        "num_list = [1,3,5,6,99,134,55]"
      ],
      "metadata": {
        "id": "bXf8Z8feOfTn"
      }
    },
    {
      "cell_type": "code",
      "source": [
        "num_list = [1, 3, 5, 6, 99, 134, 55]\n",
        "even = 0\n",
        "odd = 0\n",
        "for num in num_list:\n",
        "    if num % 2 == 0:\n",
        "        even += 1\n",
        "    else:\n",
        "        odd +=1\n",
        "print(\"Even numbers:\", even)\n",
        "print(\"Odd numbers:\", odd)\n"
      ],
      "metadata": {
        "id": "QzZjjwRCPIip",
        "colab": {
          "base_uri": "https://localhost:8080/"
        },
        "outputId": "34c31716-08a4-4e17-92ff-20e6662e08bc"
      },
      "execution_count": 3,
      "outputs": [
        {
          "output_type": "stream",
          "name": "stdout",
          "text": [
            "Even numbers: 2\n",
            "Odd numbers: 5\n"
          ]
        }
      ]
    },
    {
      "cell_type": "markdown",
      "source": [
        "3) Python program to get the Fibonacci series between 0 to 50."
      ],
      "metadata": {
        "id": "Ae6CdE7hOfWZ"
      }
    },
    {
      "cell_type": "code",
      "source": [
        "n = 8\n",
        "num1 = 0\n",
        "num2 = 1\n",
        "next_number = num2\n",
        "count = 1\n",
        "while count <= n:\n",
        "    print(next_number, end=\" \")\n",
        "    count += 1\n",
        "    num1, num2 = num2, next_number\n",
        "    next_number = num1 + num2\n",
        "print()"
      ],
      "metadata": {
        "id": "_IIZYCLPPTwI",
        "colab": {
          "base_uri": "https://localhost:8080/"
        },
        "outputId": "6cd0981f-4ea1-4337-97de-ed9653e23ed5"
      },
      "execution_count": 4,
      "outputs": [
        {
          "output_type": "stream",
          "name": "stdout",
          "text": [
            "1 2 3 5 8 13 21 34 \n"
          ]
        }
      ]
    },
    {
      "cell_type": "markdown",
      "source": [
        "4) Python program that accepts a string and calculates the number of digits and letters.\n",
        "\n",
        "Input\n",
        "\n",
        "WEBBLINDERS1234"
      ],
      "metadata": {
        "id": "VYbquVMROfZz"
      }
    },
    {
      "cell_type": "code",
      "source": [
        "s = \"WEBBLINDERS1234\"\n",
        "l_c = 0\n",
        "d_c = 0\n",
        "for char in s:\n",
        "    if char.isalpha():\n",
        "        l_c += 1\n",
        "    elif char.isdigit():\n",
        "        d_c += 1\n",
        "print(f\"Letters: {l_c}\")\n",
        "print(f\"Digits: {d_c}\")"
      ],
      "metadata": {
        "id": "iGYeja7XPop3",
        "colab": {
          "base_uri": "https://localhost:8080/"
        },
        "outputId": "c4ff1e2f-4133-4123-e0d5-4a3b7563078b"
      },
      "execution_count": 5,
      "outputs": [
        {
          "output_type": "stream",
          "name": "stdout",
          "text": [
            "Letters: 11\n",
            "Digits: 4\n"
          ]
        }
      ]
    },
    {
      "cell_type": "markdown",
      "source": [
        "5) Python program to display all numbers within a range except the prime numbers.\n",
        "\n",
        "INPUT RANGE : 30 TO 80"
      ],
      "metadata": {
        "id": "RiVenPeDPqs_"
      }
    },
    {
      "cell_type": "code",
      "source": [
        "lower = 30\n",
        "upper = 80\n",
        "print(\"Except Prime numbers between\", lower, \"and\", upper, \"are:\")\n",
        "for num in range(lower, upper + 1):\n",
        "    if num > 1:\n",
        "       if(num%2==0):\n",
        "           print(\"even\",num)\n",
        "       if(num%3==0):\n",
        "           print(\"odd\",num)"
      ],
      "metadata": {
        "id": "UTm21ayAPX02",
        "colab": {
          "base_uri": "https://localhost:8080/"
        },
        "outputId": "e8989c6c-63f4-4be0-a39f-7922447835b1"
      },
      "execution_count": 1,
      "outputs": [
        {
          "output_type": "stream",
          "name": "stdout",
          "text": [
            "Except Prime numbers between 30 and 80 are:\n",
            "even 30\n",
            "odd 30\n",
            "even 32\n",
            "odd 33\n",
            "even 34\n",
            "even 36\n",
            "odd 36\n",
            "even 38\n",
            "odd 39\n",
            "even 40\n",
            "even 42\n",
            "odd 42\n",
            "even 44\n",
            "odd 45\n",
            "even 46\n",
            "even 48\n",
            "odd 48\n",
            "even 50\n",
            "odd 51\n",
            "even 52\n",
            "even 54\n",
            "odd 54\n",
            "even 56\n",
            "odd 57\n",
            "even 58\n",
            "even 60\n",
            "odd 60\n",
            "even 62\n",
            "odd 63\n",
            "even 64\n",
            "even 66\n",
            "odd 66\n",
            "even 68\n",
            "odd 69\n",
            "even 70\n",
            "even 72\n",
            "odd 72\n",
            "even 74\n",
            "odd 75\n",
            "even 76\n",
            "even 78\n",
            "odd 78\n",
            "even 80\n"
          ]
        }
      ]
    }
  ]
}