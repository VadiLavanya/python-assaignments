{
  "nbformat": 4,
  "nbformat_minor": 0,
  "metadata": {
    "colab": {
      "provenance": [],
      "toc_visible": true
    },
    "kernelspec": {
      "name": "python3",
      "display_name": "Python 3"
    },
    "language_info": {
      "name": "python"
    }
  },
  "cells": [
    {
      "cell_type": "markdown",
      "source": [
        "## Strings Assignment 2"
      ],
      "metadata": {
        "id": "EPGLodluvWuN"
      }
    },
    {
      "cell_type": "markdown",
      "source": [
        "1.Write a Python program to reverse a string.\n",
        "\n",
        "input : hellohowareyoudoingandhowisyourhealth"
      ],
      "metadata": {
        "id": "ddM5gMtivkoi"
      }
    },
    {
      "cell_type": "code",
      "source": [
        "def reverse_string(s):\n",
        "    return s[::-1]\n",
        "\n",
        "input_string = \"hellohowareyoudoingandhowisyourhealth\"\n",
        "reversed_string = reverse_string(input_string)\n",
        "print(reversed_string)"
      ],
      "metadata": {
        "id": "RnP576ZZvtLH",
        "colab": {
          "base_uri": "https://localhost:8080/"
        },
        "outputId": "ce61cc50-dd40-4b35-f8c0-96118f9eae28"
      },
      "execution_count": 1,
      "outputs": [
        {
          "output_type": "stream",
          "name": "stdout",
          "text": [
            "htlaehruoysiwohdnagnioduoyerawoholleh\n"
          ]
        }
      ]
    },
    {
      "cell_type": "markdown",
      "source": [
        "2.Write a Python program to capitalize the first letter of each word in a sentence.\n",
        "\n",
        "input : hello welcome to internship"
      ],
      "metadata": {
        "id": "jEVFoo3evnhr"
      }
    },
    {
      "cell_type": "code",
      "source": [
        "def capitalize_words(sentence):\n",
        "    return ' '.join(word.capitalize() for word in sentence.split())\n",
        "input_sentence = \"hello welcome to internship\"\n",
        "output_sentence = capitalize_words(input_sentence)\n",
        "print(output_sentence)"
      ],
      "metadata": {
        "id": "CTP3QwiGwT93",
        "colab": {
          "base_uri": "https://localhost:8080/"
        },
        "outputId": "6491cf55-93bf-45a5-ff4f-4a69b9850cd6"
      },
      "execution_count": 2,
      "outputs": [
        {
          "output_type": "stream",
          "name": "stdout",
          "text": [
            "Hello Welcome To Internship\n"
          ]
        }
      ]
    },
    {
      "cell_type": "markdown",
      "source": [
        "3.Write a Python program to find the longest word in a sentence.\n",
        "\n",
        "input : \"he is very good at painting and paint good sketches\""
      ],
      "metadata": {
        "id": "LiGvyCoVvnyC"
      }
    },
    {
      "cell_type": "code",
      "source": [
        "def find_longest_word(sentence):\n",
        "    words = sentence.split()\n",
        "    longest_word = max(words, key=len)\n",
        "    return longest_word\n",
        "input_sentence = \"he is very good at painting and paint good sketches\"\n",
        "longest_word = find_longest_word(input_sentence)\n",
        "print(longest_word)"
      ],
      "metadata": {
        "id": "clATuC3cwwPI",
        "colab": {
          "base_uri": "https://localhost:8080/"
        },
        "outputId": "6b8b4200-a661-44f7-fa22-671a61acaa7e"
      },
      "execution_count": 3,
      "outputs": [
        {
          "output_type": "stream",
          "name": "stdout",
          "text": [
            "painting\n"
          ]
        }
      ]
    },
    {
      "cell_type": "markdown",
      "source": [
        "4.Write a Python program to find the length of the last word in a sentence.\n",
        "\n",
        "input : this is the most beautiful beach I ever visited"
      ],
      "metadata": {
        "id": "-QhCplQjvn0w"
      }
    },
    {
      "cell_type": "code",
      "source": [
        "def length_of_last_word(sentence):\n",
        "    words = sentence.split()\n",
        "    if words:\n",
        "        last_word = words[-1]\n",
        "        return len(last_word)\n",
        "    return 0\n",
        "input_sentence = \"this is the most beautiful beach I ever visited\"\n",
        "last_word_length = length_of_last_word(input_sentence)\n",
        "print(last_word_length)"
      ],
      "metadata": {
        "id": "QwzbahlkxGZ-",
        "colab": {
          "base_uri": "https://localhost:8080/"
        },
        "outputId": "12f91a51-1b49-4662-9d29-c0dee2cc434d"
      },
      "execution_count": 4,
      "outputs": [
        {
          "output_type": "stream",
          "name": "stdout",
          "text": [
            "7\n"
          ]
        }
      ]
    },
    {
      "cell_type": "markdown",
      "source": [
        "5.Write a Python program to find the second most frequent character in a string.\n",
        "\n",
        "input: the hospital is very big and this hospital has so many doctors"
      ],
      "metadata": {
        "id": "cZiXxZhsvn6q"
      }
    },
    {
      "cell_type": "code",
      "source": [
        "from collections import Counter\n",
        "\n",
        "def second_most_frequent_char(string):\n",
        "    frequency = Counter(string)\n",
        "    freq_list = sorted(frequency.items(), key=lambda x: x[1], reverse=True)\n",
        "    if len(freq_list) < 2:\n",
        "        return None\n",
        "    return freq_list[1][0]\n",
        "\n",
        "input_string = \"the hospital is very big and this hospital has so many doctors\"\n",
        "result = second_most_frequent_char(input_string)\n",
        "print(result)"
      ],
      "metadata": {
        "id": "EnHquuoCxi7F",
        "colab": {
          "base_uri": "https://localhost:8080/"
        },
        "outputId": "b84bf664-cbe0-4fff-d573-85bb4596f8e4"
      },
      "execution_count": 8,
      "outputs": [
        {
          "output_type": "stream",
          "name": "stdout",
          "text": [
            "s\n"
          ]
        }
      ]
    }
  ]
}